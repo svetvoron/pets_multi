{
  "nbformat": 4,
  "nbformat_minor": 0,
  "metadata": {
    "colab": {
      "name": "Gavrilov_Class_Tigers_3.ipynb",
      "provenance": [],
      "collapsed_sections": []
    },
    "kernelspec": {
      "name": "python3",
      "display_name": "Python 3"
    },
    "language_info": {
      "name": "python"
    },
    "widgets": {
      "application/vnd.jupyter.widget-state+json": {
        "3b06447748534f46b9942e7ad978ce53": {
          "model_module": "@jupyter-widgets/controls",
          "model_name": "VBoxModel",
          "model_module_version": "1.5.0",
          "state": {
            "_view_name": "VBoxView",
            "_dom_classes": [],
            "_model_name": "VBoxModel",
            "_view_module": "@jupyter-widgets/controls",
            "_model_module_version": "1.5.0",
            "_view_count": null,
            "_view_module_version": "1.5.0",
            "box_style": "",
            "layout": "IPY_MODEL_de0a5b90c0a448f2a72ada434d8199c4",
            "_model_module": "@jupyter-widgets/controls",
            "children": [
              "IPY_MODEL_aca6ce6409c04f18b7943315a24cb1fb",
              "IPY_MODEL_8afb6d31f6fb47ab96d41c39d259e23f",
              "IPY_MODEL_bedce13e5c7641b79bd73346956a1f4f",
              "IPY_MODEL_9eb576cac35640febaaaf63ff55249cb",
              "IPY_MODEL_98f8489862e64665b3ac6f634902fa51"
            ]
          }
        },
        "de0a5b90c0a448f2a72ada434d8199c4": {
          "model_module": "@jupyter-widgets/base",
          "model_name": "LayoutModel",
          "model_module_version": "1.2.0",
          "state": {
            "_view_name": "LayoutView",
            "grid_template_rows": null,
            "right": null,
            "justify_content": null,
            "_view_module": "@jupyter-widgets/base",
            "overflow": null,
            "_model_module_version": "1.2.0",
            "_view_count": null,
            "flex_flow": null,
            "width": null,
            "min_width": null,
            "border": null,
            "align_items": null,
            "bottom": null,
            "_model_module": "@jupyter-widgets/base",
            "top": null,
            "grid_column": null,
            "overflow_y": null,
            "overflow_x": null,
            "grid_auto_flow": null,
            "grid_area": null,
            "grid_template_columns": null,
            "flex": null,
            "_model_name": "LayoutModel",
            "justify_items": null,
            "grid_row": null,
            "max_height": null,
            "align_content": null,
            "visibility": null,
            "align_self": null,
            "height": null,
            "min_height": null,
            "padding": null,
            "grid_auto_rows": null,
            "grid_gap": null,
            "max_width": null,
            "order": null,
            "_view_module_version": "1.2.0",
            "grid_template_areas": null,
            "object_position": null,
            "object_fit": null,
            "grid_auto_columns": null,
            "margin": null,
            "display": null,
            "left": null
          }
        },
        "aca6ce6409c04f18b7943315a24cb1fb": {
          "model_module": "@jupyter-widgets/controls",
          "model_name": "LabelModel",
          "model_module_version": "1.5.0",
          "state": {
            "_view_name": "LabelView",
            "style": "IPY_MODEL_a1eade07e2454273bfd5602152ffba63",
            "_dom_classes": [],
            "description": "",
            "_model_name": "LabelModel",
            "placeholder": "​",
            "_view_module": "@jupyter-widgets/controls",
            "_model_module_version": "1.5.0",
            "value": "Select your tiger!",
            "_view_count": null,
            "_view_module_version": "1.5.0",
            "description_tooltip": null,
            "_model_module": "@jupyter-widgets/controls",
            "layout": "IPY_MODEL_0c6e1633ce614d628c6a517995a3ab15"
          }
        },
        "8afb6d31f6fb47ab96d41c39d259e23f": {
          "model_module": "@jupyter-widgets/controls",
          "model_name": "FileUploadModel",
          "model_module_version": "1.5.0",
          "state": {
            "_view_name": "FileUploadView",
            "_counter": 1,
            "style": "IPY_MODEL_5752fd0cfae64b42abdc662d2e2632eb",
            "_dom_classes": [],
            "description": "Upload",
            "multiple": false,
            "_model_name": "FileUploadModel",
            "data": [
              null
            ],
            "button_style": "",
            "_view_module": "@jupyter-widgets/controls",
            "_model_module_version": "1.5.0",
            "accept": "",
            "_view_count": null,
            "disabled": false,
            "_view_module_version": "1.5.0",
            "error": "",
            "description_tooltip": null,
            "metadata": [
              {
                "name": "1.jpg",
                "type": "image/jpeg",
                "size": 294839,
                "lastModified": 1639492742637
              }
            ],
            "_model_module": "@jupyter-widgets/controls",
            "layout": "IPY_MODEL_e764e1b8f1a647a0952e142aab85270d",
            "icon": "upload"
          }
        },
        "bedce13e5c7641b79bd73346956a1f4f": {
          "model_module": "@jupyter-widgets/controls",
          "model_name": "ButtonModel",
          "model_module_version": "1.5.0",
          "state": {
            "_view_name": "ButtonView",
            "style": "IPY_MODEL_fed1420eca5a40a1b9a8fa4fbe3b8bef",
            "_dom_classes": [],
            "description": "Classify",
            "_model_name": "ButtonModel",
            "button_style": "",
            "_view_module": "@jupyter-widgets/controls",
            "_model_module_version": "1.5.0",
            "tooltip": "",
            "_view_count": null,
            "disabled": false,
            "_view_module_version": "1.5.0",
            "layout": "IPY_MODEL_01674838550043cdb55fc1f6e2a82aa0",
            "_model_module": "@jupyter-widgets/controls",
            "icon": ""
          }
        },
        "9eb576cac35640febaaaf63ff55249cb": {
          "model_module": "@jupyter-widgets/output",
          "model_name": "OutputModel",
          "model_module_version": "1.0.0",
          "state": {
            "_view_name": "OutputView",
            "msg_id": "",
            "_dom_classes": [],
            "_model_name": "OutputModel",
            "outputs": [
              {
                "output_type": "display_data",
                "data": {
                  "image/png": "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\n",
                  "text/plain": "<PIL.Image.Image image mode=RGB size=128x85 at 0x7F4E4F2765D0>"
                },
                "metadata": {}
              }
            ],
            "_view_module": "@jupyter-widgets/output",
            "_model_module_version": "1.0.0",
            "_view_count": null,
            "_view_module_version": "1.0.0",
            "layout": "IPY_MODEL_3a73845e0a38485f845fc4d36218acd3",
            "_model_module": "@jupyter-widgets/output"
          }
        },
        "98f8489862e64665b3ac6f634902fa51": {
          "model_module": "@jupyter-widgets/controls",
          "model_name": "LabelModel",
          "model_module_version": "1.5.0",
          "state": {
            "_view_name": "LabelView",
            "style": "IPY_MODEL_f27a3123d7704e51929522c200777a8e",
            "_dom_classes": [],
            "description": "",
            "_model_name": "LabelModel",
            "placeholder": "​",
            "_view_module": "@jupyter-widgets/controls",
            "_model_module_version": "1.5.0",
            "value": "Prediction: white; Probability: 1.0000",
            "_view_count": null,
            "_view_module_version": "1.5.0",
            "description_tooltip": null,
            "_model_module": "@jupyter-widgets/controls",
            "layout": "IPY_MODEL_81063ce3a79f46f1ba8987c501ca98bb"
          }
        },
        "a1eade07e2454273bfd5602152ffba63": {
          "model_module": "@jupyter-widgets/controls",
          "model_name": "DescriptionStyleModel",
          "model_module_version": "1.5.0",
          "state": {
            "_view_name": "StyleView",
            "_model_name": "DescriptionStyleModel",
            "description_width": "",
            "_view_module": "@jupyter-widgets/base",
            "_model_module_version": "1.5.0",
            "_view_count": null,
            "_view_module_version": "1.2.0",
            "_model_module": "@jupyter-widgets/controls"
          }
        },
        "0c6e1633ce614d628c6a517995a3ab15": {
          "model_module": "@jupyter-widgets/base",
          "model_name": "LayoutModel",
          "model_module_version": "1.2.0",
          "state": {
            "_view_name": "LayoutView",
            "grid_template_rows": null,
            "right": null,
            "justify_content": null,
            "_view_module": "@jupyter-widgets/base",
            "overflow": null,
            "_model_module_version": "1.2.0",
            "_view_count": null,
            "flex_flow": null,
            "width": null,
            "min_width": null,
            "border": null,
            "align_items": null,
            "bottom": null,
            "_model_module": "@jupyter-widgets/base",
            "top": null,
            "grid_column": null,
            "overflow_y": null,
            "overflow_x": null,
            "grid_auto_flow": null,
            "grid_area": null,
            "grid_template_columns": null,
            "flex": null,
            "_model_name": "LayoutModel",
            "justify_items": null,
            "grid_row": null,
            "max_height": null,
            "align_content": null,
            "visibility": null,
            "align_self": null,
            "height": null,
            "min_height": null,
            "padding": null,
            "grid_auto_rows": null,
            "grid_gap": null,
            "max_width": null,
            "order": null,
            "_view_module_version": "1.2.0",
            "grid_template_areas": null,
            "object_position": null,
            "object_fit": null,
            "grid_auto_columns": null,
            "margin": null,
            "display": null,
            "left": null
          }
        },
        "5752fd0cfae64b42abdc662d2e2632eb": {
          "model_module": "@jupyter-widgets/controls",
          "model_name": "ButtonStyleModel",
          "model_module_version": "1.5.0",
          "state": {
            "_view_name": "StyleView",
            "_model_name": "ButtonStyleModel",
            "_view_module": "@jupyter-widgets/base",
            "_model_module_version": "1.5.0",
            "_view_count": null,
            "button_color": null,
            "font_weight": "",
            "_view_module_version": "1.2.0",
            "_model_module": "@jupyter-widgets/controls"
          }
        },
        "e764e1b8f1a647a0952e142aab85270d": {
          "model_module": "@jupyter-widgets/base",
          "model_name": "LayoutModel",
          "model_module_version": "1.2.0",
          "state": {
            "_view_name": "LayoutView",
            "grid_template_rows": null,
            "right": null,
            "justify_content": null,
            "_view_module": "@jupyter-widgets/base",
            "overflow": null,
            "_model_module_version": "1.2.0",
            "_view_count": null,
            "flex_flow": null,
            "width": null,
            "min_width": null,
            "border": null,
            "align_items": null,
            "bottom": null,
            "_model_module": "@jupyter-widgets/base",
            "top": null,
            "grid_column": null,
            "overflow_y": null,
            "overflow_x": null,
            "grid_auto_flow": null,
            "grid_area": null,
            "grid_template_columns": null,
            "flex": null,
            "_model_name": "LayoutModel",
            "justify_items": null,
            "grid_row": null,
            "max_height": null,
            "align_content": null,
            "visibility": null,
            "align_self": null,
            "height": null,
            "min_height": null,
            "padding": null,
            "grid_auto_rows": null,
            "grid_gap": null,
            "max_width": null,
            "order": null,
            "_view_module_version": "1.2.0",
            "grid_template_areas": null,
            "object_position": null,
            "object_fit": null,
            "grid_auto_columns": null,
            "margin": null,
            "display": null,
            "left": null
          }
        },
        "fed1420eca5a40a1b9a8fa4fbe3b8bef": {
          "model_module": "@jupyter-widgets/controls",
          "model_name": "ButtonStyleModel",
          "model_module_version": "1.5.0",
          "state": {
            "_view_name": "StyleView",
            "_model_name": "ButtonStyleModel",
            "_view_module": "@jupyter-widgets/base",
            "_model_module_version": "1.5.0",
            "_view_count": null,
            "button_color": null,
            "font_weight": "",
            "_view_module_version": "1.2.0",
            "_model_module": "@jupyter-widgets/controls"
          }
        },
        "01674838550043cdb55fc1f6e2a82aa0": {
          "model_module": "@jupyter-widgets/base",
          "model_name": "LayoutModel",
          "model_module_version": "1.2.0",
          "state": {
            "_view_name": "LayoutView",
            "grid_template_rows": null,
            "right": null,
            "justify_content": null,
            "_view_module": "@jupyter-widgets/base",
            "overflow": null,
            "_model_module_version": "1.2.0",
            "_view_count": null,
            "flex_flow": null,
            "width": null,
            "min_width": null,
            "border": null,
            "align_items": null,
            "bottom": null,
            "_model_module": "@jupyter-widgets/base",
            "top": null,
            "grid_column": null,
            "overflow_y": null,
            "overflow_x": null,
            "grid_auto_flow": null,
            "grid_area": null,
            "grid_template_columns": null,
            "flex": null,
            "_model_name": "LayoutModel",
            "justify_items": null,
            "grid_row": null,
            "max_height": null,
            "align_content": null,
            "visibility": null,
            "align_self": null,
            "height": null,
            "min_height": null,
            "padding": null,
            "grid_auto_rows": null,
            "grid_gap": null,
            "max_width": null,
            "order": null,
            "_view_module_version": "1.2.0",
            "grid_template_areas": null,
            "object_position": null,
            "object_fit": null,
            "grid_auto_columns": null,
            "margin": null,
            "display": null,
            "left": null
          }
        },
        "f27a3123d7704e51929522c200777a8e": {
          "model_module": "@jupyter-widgets/controls",
          "model_name": "DescriptionStyleModel",
          "model_module_version": "1.5.0",
          "state": {
            "_view_name": "StyleView",
            "_model_name": "DescriptionStyleModel",
            "description_width": "",
            "_view_module": "@jupyter-widgets/base",
            "_model_module_version": "1.5.0",
            "_view_count": null,
            "_view_module_version": "1.2.0",
            "_model_module": "@jupyter-widgets/controls"
          }
        },
        "81063ce3a79f46f1ba8987c501ca98bb": {
          "model_module": "@jupyter-widgets/base",
          "model_name": "LayoutModel",
          "model_module_version": "1.2.0",
          "state": {
            "_view_name": "LayoutView",
            "grid_template_rows": null,
            "right": null,
            "justify_content": null,
            "_view_module": "@jupyter-widgets/base",
            "overflow": null,
            "_model_module_version": "1.2.0",
            "_view_count": null,
            "flex_flow": null,
            "width": null,
            "min_width": null,
            "border": null,
            "align_items": null,
            "bottom": null,
            "_model_module": "@jupyter-widgets/base",
            "top": null,
            "grid_column": null,
            "overflow_y": null,
            "overflow_x": null,
            "grid_auto_flow": null,
            "grid_area": null,
            "grid_template_columns": null,
            "flex": null,
            "_model_name": "LayoutModel",
            "justify_items": null,
            "grid_row": null,
            "max_height": null,
            "align_content": null,
            "visibility": null,
            "align_self": null,
            "height": null,
            "min_height": null,
            "padding": null,
            "grid_auto_rows": null,
            "grid_gap": null,
            "max_width": null,
            "order": null,
            "_view_module_version": "1.2.0",
            "grid_template_areas": null,
            "object_position": null,
            "object_fit": null,
            "grid_auto_columns": null,
            "margin": null,
            "display": null,
            "left": null
          }
        },
        "3a73845e0a38485f845fc4d36218acd3": {
          "model_module": "@jupyter-widgets/base",
          "model_name": "LayoutModel",
          "model_module_version": "1.2.0",
          "state": {
            "_view_name": "LayoutView",
            "grid_template_rows": null,
            "right": null,
            "justify_content": null,
            "_view_module": "@jupyter-widgets/base",
            "overflow": null,
            "_model_module_version": "1.2.0",
            "_view_count": null,
            "flex_flow": null,
            "width": null,
            "min_width": null,
            "border": null,
            "align_items": null,
            "bottom": null,
            "_model_module": "@jupyter-widgets/base",
            "top": null,
            "grid_column": null,
            "overflow_y": null,
            "overflow_x": null,
            "grid_auto_flow": null,
            "grid_area": null,
            "grid_template_columns": null,
            "flex": null,
            "_model_name": "LayoutModel",
            "justify_items": null,
            "grid_row": null,
            "max_height": null,
            "align_content": null,
            "visibility": null,
            "align_self": null,
            "height": null,
            "min_height": null,
            "padding": null,
            "grid_auto_rows": null,
            "grid_gap": null,
            "max_width": null,
            "order": null,
            "_view_module_version": "1.2.0",
            "grid_template_areas": null,
            "object_position": null,
            "object_fit": null,
            "grid_auto_columns": null,
            "margin": null,
            "display": null,
            "left": null
          }
        }
      }
    }
  },
  "cells": [
    {
      "cell_type": "code",
      "source": [
        "from fastai.vision.all import *\n",
        "from fastai.vision.widgets import *"
      ],
      "metadata": {
        "id": "pIY50l45929T"
      },
      "execution_count": null,
      "outputs": []
    },
    {
      "cell_type": "code",
      "source": [
        "btn_upload = widgets.FileUpload()"
      ],
      "metadata": {
        "id": "Uu-iC409jsDy"
      },
      "execution_count": null,
      "outputs": []
    },
    {
      "cell_type": "code",
      "source": [
        "out_pl = widgets.Output()"
      ],
      "metadata": {
        "id": "LFG9e0caj1E7"
      },
      "execution_count": null,
      "outputs": []
    },
    {
      "cell_type": "code",
      "source": [
        "path = Path()\n",
        "path.ls(file_exts='.pkl')"
      ],
      "metadata": {
        "colab": {
          "base_uri": "https://localhost:8080/"
        },
        "id": "TqAyDjy3kWFg",
        "outputId": "59cdbbc9-fe6e-464c-807f-5da32d3115dc"
      },
      "execution_count": null,
      "outputs": [
        {
          "output_type": "execute_result",
          "data": {
            "text/plain": [
              "(#1) [Path('export.pkl')]"
            ]
          },
          "metadata": {},
          "execution_count": 5
        }
      ]
    },
    {
      "cell_type": "code",
      "source": [
        "learn_inf = load_learner(path/'export.pkl')"
      ],
      "metadata": {
        "id": "9x3nMGSJkduB"
      },
      "execution_count": null,
      "outputs": []
    },
    {
      "cell_type": "code",
      "source": [
        "lbl_pred = widgets.Label()"
      ],
      "metadata": {
        "id": "a3qNbttCkhU9"
      },
      "execution_count": null,
      "outputs": []
    },
    {
      "cell_type": "code",
      "source": [
        "btn_run = widgets.Button(description='Classify')"
      ],
      "metadata": {
        "id": "POgFWmPtk0Rz"
      },
      "execution_count": null,
      "outputs": []
    },
    {
      "cell_type": "code",
      "source": [
        "def on_click_classify(change):\n",
        "    img = PILImage.create(btn_upload.data[-1])\n",
        "    out_pl.clear_output()\n",
        "    with out_pl: display(img.to_thumb(128,128))\n",
        "    pred,pred_idx,probs = learn_inf.predict(img)\n",
        "    lbl_pred.value = f'Prediction: {pred}; Probability: {probs[pred_idx]:.04f}'"
      ],
      "metadata": {
        "id": "5qGuuAb-jrcw"
      },
      "execution_count": null,
      "outputs": []
    },
    {
      "cell_type": "code",
      "source": [
        "btn_run.on_click(on_click_classify)"
      ],
      "metadata": {
        "id": "LhqIJNopk9HU"
      },
      "execution_count": null,
      "outputs": []
    },
    {
      "cell_type": "code",
      "source": [
        "btn_upload = widgets.FileUpload()"
      ],
      "metadata": {
        "id": "Htqpi9BslDFZ"
      },
      "execution_count": null,
      "outputs": []
    },
    {
      "cell_type": "code",
      "source": [
        "vb=widgets.VBox([widgets.Label('Select your tiger!'),btn_upload, btn_run, out_pl, lbl_pred])\n",
        "vb"
      ],
      "metadata": {
        "colab": {
          "base_uri": "https://localhost:8080/",
          "height": 230,
          "referenced_widgets": [
            "3b06447748534f46b9942e7ad978ce53",
            "de0a5b90c0a448f2a72ada434d8199c4",
            "aca6ce6409c04f18b7943315a24cb1fb",
            "8afb6d31f6fb47ab96d41c39d259e23f",
            "bedce13e5c7641b79bd73346956a1f4f",
            "9eb576cac35640febaaaf63ff55249cb",
            "98f8489862e64665b3ac6f634902fa51",
            "a1eade07e2454273bfd5602152ffba63",
            "0c6e1633ce614d628c6a517995a3ab15",
            "5752fd0cfae64b42abdc662d2e2632eb",
            "e764e1b8f1a647a0952e142aab85270d",
            "fed1420eca5a40a1b9a8fa4fbe3b8bef",
            "01674838550043cdb55fc1f6e2a82aa0",
            "f27a3123d7704e51929522c200777a8e",
            "81063ce3a79f46f1ba8987c501ca98bb",
            "3a73845e0a38485f845fc4d36218acd3"
          ]
        },
        "id": "XZxMYdTUlFsS",
        "outputId": "85132791-7b90-4c8b-fecf-fc9fe786423f"
      },
      "execution_count": null,
      "outputs": [
        {
          "output_type": "display_data",
          "data": {
            "application/vnd.jupyter.widget-view+json": {
              "model_id": "3b06447748534f46b9942e7ad978ce53",
              "version_minor": 0,
              "version_major": 2
            },
            "text/plain": [
              "VBox(children=(Label(value='Select your tiger!'), FileUpload(value={}, description='Upload'), Button(descripti…"
            ]
          },
          "metadata": {}
        },
        {
          "output_type": "display_data",
          "data": {
            "text/html": [
              ""
            ],
            "text/plain": [
              "<IPython.core.display.HTML object>"
            ]
          },
          "metadata": {}
        },
        {
          "output_type": "display_data",
          "data": {
            "text/html": [
              ""
            ],
            "text/plain": [
              "<IPython.core.display.HTML object>"
            ]
          },
          "metadata": {}
        }
      ]
    }
  ]
}